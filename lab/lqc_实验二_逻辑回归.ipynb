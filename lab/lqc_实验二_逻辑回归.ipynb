{
 "cells": [
  {
   "cell_type": "code",
   "execution_count": 19,
   "metadata": {},
   "outputs": [
    {
     "name": "stdout",
     "output_type": "stream",
     "text": [
      "[[-8.42279005]\n",
      " [ 0.07308283]\n",
      " [ 0.06668396]]\n"
     ]
    }
   ],
   "source": [
    "import numpy as np\n",
    "import matplotlib.pyplot as plt\n",
    "\n",
    "# 1. 实现Sigmoid函数\n",
    "def sigmoid(z):\n",
    "    r = 1/(1+np.exp(-z))\n",
    "    return r\n",
    "\n",
    "# 2. 实现假设函数\n",
    "\n",
    "def hypothesis(X,theta):\n",
    "    z=np.dot(X,theta)\n",
    "    return sigmoid(z)\n",
    "\n",
    "# 3. 计算损失；\n",
    "\n",
    "def computeCost(X,y,theta):\n",
    "    m = X.shape[0]\n",
    "    z = -1*y*np.log(hypothesis(X,theta))-(1-y)*np.log(1-hypothesis(X,theta))\n",
    "    return np.sum(z)/m\n",
    "\n",
    "# 4. 梯度下降求解；\n",
    "\n",
    "def gradientDescent(X,y,theta,iterations,alpha):\n",
    "    m = X.shape[0]\n",
    " \n",
    "    for i in range(iterations):\n",
    "        a = np.dot(X.T,hypothesis(X,theta)-y)\n",
    "        theta = theta - alpha*a/m\n",
    "    return theta\n",
    "\n",
    "if __name__ == '__main__':\n",
    "    data = np.genfromtxt('data/data1.txt',delimiter = ',')\n",
    "    X = data[:,0:2]\n",
    "    y = data[:,2:3]\n",
    "    X = np.c_[np.ones((X.shape[0],1)),X]\n",
    "    theta = np.zeros((3,1))\n",
    "    iterations = 250000\n",
    "    alpha = 0.001\n",
    "    \n",
    "    theta =gradientDescent(X,y,theta,iterations,alpha)\n",
    "    print(theta)"
   ]
  },
  {
   "cell_type": "code",
   "execution_count": 25,
   "metadata": {},
   "outputs": [
    {
     "name": "stdout",
     "output_type": "stream",
     "text": [
      "(array([ 3,  4,  6,  7,  8,  9, 12, 13, 15, 16, 18, 19, 21, 24, 25, 26, 30,\n",
      "       31, 33, 37, 40, 42, 46, 47, 48, 49, 50, 51, 52, 56, 58, 59, 60, 66,\n",
      "       68, 69, 71, 72, 73, 74, 75, 76, 77, 80, 81, 82, 83, 84, 85, 87, 88,\n",
      "       90, 91, 93, 94, 95, 96, 97, 98, 99], dtype=int64), array([0, 0, 0, 0, 0, 0, 0, 0, 0, 0, 0, 0, 0, 0, 0, 0, 0, 0, 0, 0, 0, 0,\n",
      "       0, 0, 0, 0, 0, 0, 0, 0, 0, 0, 0, 0, 0, 0, 0, 0, 0, 0, 0, 0, 0, 0,\n",
      "       0, 0, 0, 0, 0, 0, 0, 0, 0, 0, 0, 0, 0, 0, 0, 0], dtype=int64))\n",
      "(array([ 0,  1,  2,  5, 10, 11, 14, 17, 20, 22, 23, 27, 28, 29, 32, 34, 35,\n",
      "       36, 38, 39, 41, 43, 44, 45, 53, 54, 55, 57, 61, 62, 63, 64, 65, 67,\n",
      "       70, 78, 79, 86, 89, 92], dtype=int64), array([0, 0, 0, 0, 0, 0, 0, 0, 0, 0, 0, 0, 0, 0, 0, 0, 0, 0, 0, 0, 0, 0,\n",
      "       0, 0, 0, 0, 0, 0, 0, 0, 0, 0, 0, 0, 0, 0, 0, 0, 0, 0], dtype=int64))\n"
     ]
    },
    {
     "data": {
      "image/png": "[encoded data removed]",
      "text/plain": [
       "<Figure size 432x288 with 1 Axes>"
      ]
     },
     "metadata": {
      "needs_background": "light"
     },
     "output_type": "display_data"
    }
   ],
   "source": [
    "def plotDescisionBoundary(X,y,theta):\n",
    "    #散点图\n",
    "    pos = np.where(y == 1)\n",
    "    neg = np.where(y == 0)\n",
    "    print(pos)\n",
    "    print(neg)\n",
    "    plt.plot(X[pos[0],1],X[pos[0],2],'b.')\n",
    "    plt.plot(X[neg[0],1],X[neg[0],2],'r.')\n",
    "    \n",
    "    #分类决策面 theta0+theta1*x1+theta*x2 = 0\n",
    "    x1 = np.arange(min(X[:,1]),max(X[:,1]),0.1)\n",
    "    x2 = -(theta[1]*x1 +theta[0]) / theta[2]\n",
    "    plt.plot(x1,x2,'g-')\n",
    "    plt.show()\n",
    "plotDescisionBoundary(X,y,theta)"
   ]
  },
  {
   "cell_type": "code",
   "execution_count": null,
   "metadata": {},
   "outputs": [],
   "source": []
  }
 ],
 "metadata": {
  "kernelspec": {
   "display_name": "Python 3",
   "language": "python",
   "name": "python3"
  },
  "language_info": {
   "codemirror_mode": {
    "name": "ipython",
    "version": 3
   },
   "file_extension": ".py",
   "mimetype": "text/x-python",
   "name": "python",
   "nbconvert_exporter": "python",
   "pygments_lexer": "ipython3",
   "version": "3.7.4"
  }
 },
 "nbformat": 4,
 "nbformat_minor": 2
}

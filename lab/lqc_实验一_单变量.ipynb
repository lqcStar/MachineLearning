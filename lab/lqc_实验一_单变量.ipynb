{
 "cells": [
  {
   "cell_type": "code",
   "execution_count": 104,
   "metadata": {},
   "outputs": [],
   "source": [
    "import numpy as np\n",
    "import matplotlib.pyplot as plt\n",
    "\n",
    "data = np.genfromtxt('data/data.csv',delimiter=',')\n",
    "x = data[:,0]\n",
    "y = data[:,1]\n",
    "lenth = len(x)\n",
    "m = float(lenth)\n",
    "theta0 = 0\n",
    "theta1 = 0\n",
    "lr = 0.0001\n",
    "iterators = 100\n",
    "\n",
    "loss1 = np.zeros(iterators)\n",
    "it = np.zeros(iterators)\n",
    "# 单变量的线性回归（x,y）\n",
    "def loss(x,y,theta0,theta1):\n",
    "    sum = 0\n",
    "    for i in range(lenth):\n",
    "        sum +=pow((theta0+theta1*x[i]-y[i]),2)/(2*m)\n",
    "    return sum\n",
    "def gradient(x,y,theta0,theta1,iterators):\n",
    "\n",
    "    for i in range(iterators):\n",
    "        for j in range(lenth):               \n",
    "            theta0 = theta0 - (lr*(theta0+theta1*x[j]-y[j]))/m\n",
    "            theta1 = theta1 - (lr*(theta0+theta1*x[j]-y[j])*x[j])/m\n",
    "        \n",
    "        loss1[i] = loss(x,y,theta0,theta1)\n",
    "        it[i] = i\n",
    "        \n",
    "    return theta0,theta1\n",
    "    "
   ]
  },
  {
   "cell_type": "code",
   "execution_count": 105,
   "metadata": {},
   "outputs": [
    {
     "data": {
      "text/plain": [
       "[<matplotlib.lines.Line2D at 0x15d38018708>]"
      ]
     },
     "execution_count": 105,
     "metadata": {},
     "output_type": "execute_result"
    },
    {
     "data": {
      "image/png": "[encoded data removed]",
      "text/plain": [
       "<Figure size 432x288 with 1 Axes>"
      ]
     },
     "metadata": {
      "needs_background": "light"
     },
     "output_type": "display_data"
    }
   ],
   "source": [
    "plt.plot(x,y,'b.')\n",
    "theta0,theta1 = gradient(x,y,theta0,theta1,iterators)\n",
    "plt.plot(x,theta0+theta1*x,'r')"
   ]
  },
  {
   "cell_type": "code",
   "execution_count": 93,
   "metadata": {},
   "outputs": [
    {
     "name": "stdout",
     "output_type": "stream",
     "text": [
      "[1709.04640701 1057.85564631  662.93104021  423.49188185  278.37587041\n",
      "  190.46787518  137.2479277   105.05385404   85.59882047   73.85766063\n",
      "   66.78406071   62.53206335   59.98367194   58.46223507   57.55857746\n",
      "   57.02554826   56.71408194   56.53444325   56.43274739   56.37674294\n",
      "   56.34720987   56.33275991   56.32669748   56.32512768   56.32581838\n",
      "   56.32751757   56.32954557   56.33155232   56.3333741    56.33494952\n",
      "   56.33627092   56.33735671   56.33823606   56.33894066   56.33950069\n",
      "   56.33994295   56.34029034   56.34056194   56.34077332   56.34093711\n",
      "   56.34106338   56.34116016   56.34123382   56.34128936   56.34133073\n",
      "   56.34136102   56.34138266   56.34139755   56.34140717   56.34141267\n",
      "   56.34141498   56.34141478   56.34141263   56.34140896   56.34140411\n",
      "   56.34139834   56.34139185   56.3413848    56.34137731   56.34136948\n",
      "   56.34136139   56.34135309   56.34134463   56.34133605   56.34132736\n",
      "   56.3413186    56.34130978   56.34130092   56.34129202   56.34128309\n",
      "   56.34127414   56.34126517   56.34125619   56.3412472    56.3412382\n",
      "   56.34122919   56.34122018   56.34121117   56.34120215   56.34119313\n",
      "   56.34118411   56.34117509   56.34116607   56.34115704   56.34114802\n",
      "   56.341139     56.34112997   56.34112094   56.34111192   56.34110289\n",
      "   56.34109387   56.34108484   56.34107581   56.34106679   56.34105776\n",
      "   56.34104874   56.34103971   56.34103069   56.34102166   56.34101263]\n"
     ]
    },
    {
     "data": {
      "text/plain": [
       "[<matplotlib.lines.Line2D at 0x15d37f60348>]"
      ]
     },
     "execution_count": 93,
     "metadata": {},
     "output_type": "execute_result"
    },
    {
     "data": {
      "image/png": "[encoded data removed]",
      "text/plain": [
       "<Figure size 432x288 with 1 Axes>"
      ]
     },
     "metadata": {
      "needs_background": "light"
     },
     "output_type": "display_data"
    }
   ],
   "source": [
    "print(loss1)\n"
   ]
  },
  {
   "cell_type": "code",
   "execution_count": 106,
   "metadata": {},
   "outputs": [],
   "source": []
  },
  {
   "cell_type": "code",
   "execution_count": 103,
   "metadata": {},
   "outputs": [
    {
     "name": "stdout",
     "output_type": "stream",
     "text": [
      "nan\n"
     ]
    },
    {
     "name": "stderr",
     "output_type": "stream",
     "text": [
      "E:\\Anacoda\\lib\\site-packages\\ipykernel_launcher.py:23: RuntimeWarning: overflow encountered in double_scalars\n",
      "E:\\Anacoda\\lib\\site-packages\\ipykernel_launcher.py:31: RuntimeWarning: overflow encountered in double_scalars\n",
      "E:\\Anacoda\\lib\\site-packages\\ipykernel_launcher.py:29: RuntimeWarning: overflow encountered in double_scalars\n",
      "E:\\Anacoda\\lib\\site-packages\\ipykernel_launcher.py:29: RuntimeWarning: invalid value encountered in double_scalars\n",
      "E:\\Anacoda\\lib\\site-packages\\ipykernel_launcher.py:30: RuntimeWarning: overflow encountered in double_scalars\n"
     ]
    }
   ],
   "source": []
  },
  {
   "cell_type": "code",
   "execution_count": null,
   "metadata": {},
   "outputs": [],
   "source": []
  }
 ],
 "metadata": {
  "kernelspec": {
   "display_name": "Python 3",
   "language": "python",
   "name": "python3"
  },
  "language_info": {
   "codemirror_mode": {
    "name": "ipython",
    "version": 3
   },
   "file_extension": ".py",
   "mimetype": "text/x-python",
   "name": "python",
   "nbconvert_exporter": "python",
   "pygments_lexer": "ipython3",
   "version": "3.7.4"
  }
 },
 "nbformat": 4,
 "nbformat_minor": 2
}

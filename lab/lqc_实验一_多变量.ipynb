{
 "cells": [
  {
   "cell_type": "code",
   "execution_count": 8,
   "metadata": {},
   "outputs": [
    {
     "name": "stdout",
     "output_type": "stream",
     "text": [
      "(47, 1)\n",
      "[[3.40397964e+05]\n",
      " [1.52428488e+05]\n",
      " [5.19920429e+01]]\n"
     ]
    },
    {
     "data": {
      "image/png": "[encoded data removed]",
      "text/plain": [
       "<Figure size 432x288 with 1 Axes>"
      ]
     },
     "metadata": {
      "needs_background": "light"
     },
     "output_type": "display_data"
    }
   ],
   "source": [
    "#多变量的线性回归（基于梯度下降）\n",
    "import numpy as np\n",
    "import matplotlib.pyplot as plt\n",
    "\n",
    "#加载数据\n",
    "def loadData(path):\n",
    "    data = np.genfromtxt(path,delimiter=',')\n",
    "    X = data[:,0:2]\n",
    "#     注意，此处是一个大大坑，如果定义成X = data[:,2]恭喜你，你的theta\n",
    "#     会得到一大串。当你检查错误时，会很麻烦\n",
    "    y = data[:,2:3]\n",
    "    print(y.shape)\n",
    "    return X,y\n",
    "\n",
    "# 特征归一化\n",
    "def featureNorm(X):\n",
    "    X_norm = X\n",
    "    mu = np.mean(X,0)\n",
    "    sigma = np.std(X)\n",
    "    X_norm = (X-mu)/sigma\n",
    "    return X_norm\n",
    "# 梯度下降\n",
    "def gradient(X,y,theta,iterators,alpha):\n",
    "    m = y.shape[0]\n",
    "    loss = np.zeros((iterators,1))\n",
    "    for i in range(iterators):\n",
    "        y_hat = np.dot(X,theta)\n",
    "        temploss = np.sum((y_hat-y)**2)/(2*m)\n",
    "        temptheta = np.dot(X.T,(y_hat-y))\n",
    "        theta = theta-alpha/m*temptheta\n",
    "        loss[i:,] = temploss\n",
    "    return theta,loss\n",
    "def main():\n",
    "    X,y = loadData('data/ex1data2.txt')\n",
    "    X = featureNorm(X)\n",
    "    X0 = np.ones((X.shape[0],1))    \n",
    "    X  = np.c_[X0,X]\n",
    "    n = X.shape[1]\n",
    "    alpha = 0.01\n",
    "    iterators = 1000\n",
    "    theta = np.zeros((n,1))\n",
    "\n",
    "    theta,loss = gradient(X,y,theta,iterators,alpha)\n",
    "    print(theta)\n",
    "    it = np.arange(iterators)\n",
    "    plt.plot(it,loss,'r')\n",
    "    plt.show()\n",
    "main()"
   ]
  },
  {
   "cell_type": "code",
   "execution_count": 1,
   "metadata": {},
   "outputs": [
    {
     "name": "stdout",
     "output_type": "stream",
     "text": [
      "(47, 3)\n",
      "47 2\n",
      "[2000.68085106    3.17021277]\n",
      "(47, 2)\n",
      "(47, 1)\n",
      "3\n",
      "<class 'numpy.ndarray'>\n",
      "[[340412.65957447]\n",
      " [153783.00015161]\n",
      " [-25165.65227767]]\n",
      "预测值为 [[2.46317716e+08]]\n"
     ]
    },
    {
     "data": {
      "text/plain": [
       "<Figure size 640x480 with 1 Axes>"
      ]
     },
     "metadata": {},
     "output_type": "display_data"
    }
   ],
   "source": []
  },
  {
   "cell_type": "code",
   "execution_count": 7,
   "metadata": {},
   "outputs": [
    {
     "name": "stdout",
     "output_type": "stream",
     "text": [
      "[[0]\n",
      " [1]\n",
      " [2]\n",
      " [3]]\n",
      "[[0 1 2 3]]\n",
      "[[14]]\n"
     ]
    }
   ],
   "source": []
  },
  {
   "cell_type": "code",
   "execution_count": null,
   "metadata": {},
   "outputs": [],
   "source": []
  }
 ],
 "metadata": {
  "kernelspec": {
   "display_name": "Python 3",
   "language": "python",
   "name": "python3"
  },
  "language_info": {
   "codemirror_mode": {
    "name": "ipython",
    "version": 3
   },
   "file_extension": ".py",
   "mimetype": "text/x-python",
   "name": "python",
   "nbconvert_exporter": "python",
   "pygments_lexer": "ipython3",
   "version": "3.7.4"
  }
 },
 "nbformat": 4,
 "nbformat_minor": 2
}

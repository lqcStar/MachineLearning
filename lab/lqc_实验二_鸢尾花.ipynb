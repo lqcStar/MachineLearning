{
 "cells": [
  {
   "cell_type": "code",
   "execution_count": 23,
   "metadata": {},
   "outputs": [
    {
     "name": "stdout",
     "output_type": "stream",
     "text": [
      "3\n",
      "0.98\n",
      "准确度= 0.98\n"
     ]
    },
    {
     "name": "stderr",
     "output_type": "stream",
     "text": [
      "E:\\Anacoda\\lib\\site-packages\\sklearn\\linear_model\\logistic.py:432: FutureWarning: Default solver will be changed to 'lbfgs' in 0.22. Specify a solver to silence this warning.\n",
      "  FutureWarning)\n",
      "E:\\Anacoda\\lib\\site-packages\\sklearn\\linear_model\\logistic.py:469: FutureWarning: Default multi_class will be changed to 'auto' in 0.22. Specify the multi_class option to silence this warning.\n",
      "  \"this warning.\", FutureWarning)\n"
     ]
    }
   ],
   "source": [
    "import numpy as np\n",
    "import matplotlib.pyplot as plt\n",
    "from sklearn import linear_model\n",
    "from sklearn.metrics import accuracy_score\n",
    "from sklearn.datasets import load_iris\n",
    "from sklearn.metrics import roc_curve, auc\n",
    "\n",
    "\n",
    "iris = load_iris()\n",
    "X = iris.data\n",
    "y = iris.target\n",
    "\n",
    "\n",
    "model = linear_model.LogisticRegression(C=100.0)\n",
    "model.fit(X,y)\n",
    "\n",
    "y_hat = model.predict(X)\n",
    "\n",
    "count = 0\n",
    "lenth = len(y)\n",
    "for i in range(lenth):\n",
    "    if(model.predict(X)[i] != y[i]):\n",
    "        count += 1\n",
    "print(count)\n",
    "print(1-(count/lenth))\n",
    "\n",
    "print(\"准确度=\",accuracy_score(y,y_hat))"
   ]
  },
  {
   "cell_type": "code",
   "execution_count": 22,
   "metadata": {},
   "outputs": [
    {
     "name": "stdout",
     "output_type": "stream",
     "text": [
      "171\n",
      "14\n",
      "0.9181286549707602\n"
     ]
    },
    {
     "name": "stderr",
     "output_type": "stream",
     "text": [
      "E:\\Anacoda\\lib\\site-packages\\sklearn\\linear_model\\logistic.py:432: FutureWarning: Default solver will be changed to 'lbfgs' in 0.22. Specify a solver to silence this warning.\n",
      "  FutureWarning)\n"
     ]
    }
   ],
   "source": [
    "from sklearn.datasets import load_breast_cancer\n",
    "from sklearn.linear_model import LogisticRegression\n",
    "\n",
    "breast_cancer = load_breast_cancer()\n",
    "from sklearn.model_selection import train_test_split\n",
    "\n",
    "\n",
    "diabetes_x = breast_cancer.data\n",
    "diabetes_y = breast_cancer.target\n",
    "\n",
    "\n",
    "x_train,x_test,y_train,y_test =train_test_split(diabetes_x, diabetes_y, test_size=0.3)\n",
    "\n",
    "log = LogisticRegression()\n",
    "log.fit(x_train,y_train)\n",
    "\n",
    "#\n",
    "# print(log.predict(x_test))\n",
    "# print(y_test)\n",
    "count = 0\n",
    "lenth = len(y_test)\n",
    "print(lenth)\n",
    "for i in range(lenth):\n",
    "    if log.predict(x_test)[i]!=y_test[i]:\n",
    "        count+=1\n",
    "print(count)\n",
    "\n",
    "\n",
    "print(1-count/l)#输出准确率"
   ]
  },
  {
   "cell_type": "code",
   "execution_count": null,
   "metadata": {},
   "outputs": [],
   "source": []
  }
 ],
 "metadata": {
  "kernelspec": {
   "display_name": "Python 3",
   "language": "python",
   "name": "python3"
  },
  "language_info": {
   "codemirror_mode": {
    "name": "ipython",
    "version": 3
   },
   "file_extension": ".py",
   "mimetype": "text/x-python",
   "name": "python",
   "nbconvert_exporter": "python",
   "pygments_lexer": "ipython3",
   "version": "3.7.4"
  }
 },
 "nbformat": 4,
 "nbformat_minor": 2
}
